{
 "cells": [
  {
   "cell_type": "code",
   "execution_count": 1,
   "metadata": {},
   "outputs": [],
   "source": [
    "s=\"दिवाली, भारत देश में मनाया जाने वाला सबसे बडा़ त्यौहार है। दिवाली को पूरे भारत में खूब धूम धाम से मनाते हैं। आपको बता दें कि दिवाली सिर्फ भारत में ही नहीं बल्कि भारत के बाहर रहने वाले भारतीय और अन्य लोग भी बहुत धूम धाम से मनाते हैं।\""
   ]
  },
  {
   "cell_type": "code",
   "execution_count": 2,
   "metadata": {},
   "outputs": [
    {
     "name": "stdout",
     "output_type": "stream",
     "text": [
      "दिवाली, भारत देश में मनाया जाने वाला सबसे बडा़ त्यौहार है। दिवाली को पूरे भारत में खूब धूम धाम से मनाते हैं। आपको बता दें कि दिवाली सिर्फ भारत में ही नहीं बल्कि भारत के बाहर रहने वाले भारतीय और अन्य लोग भी बहुत धूम धाम से मनाते हैं।\n"
     ]
    }
   ],
   "source": [
    "print(s)"
   ]
  },
  {
   "cell_type": "code",
   "execution_count": null,
   "metadata": {},
   "outputs": [],
   "source": []
  }
 ],
 "metadata": {
  "kernelspec": {
   "display_name": "Python 3",
   "language": "python",
   "name": "python3"
  },
  "language_info": {
   "codemirror_mode": {
    "name": "ipython",
    "version": 3
   },
   "file_extension": ".py",
   "mimetype": "text/x-python",
   "name": "python",
   "nbconvert_exporter": "python",
   "pygments_lexer": "ipython3",
   "version": "3.7.3"
  }
 },
 "nbformat": 4,
 "nbformat_minor": 2
}
