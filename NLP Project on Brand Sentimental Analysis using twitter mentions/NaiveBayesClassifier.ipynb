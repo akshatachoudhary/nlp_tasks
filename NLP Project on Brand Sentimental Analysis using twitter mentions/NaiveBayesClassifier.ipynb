{
 "cells": [
  {
   "cell_type": "code",
   "execution_count": 1,
   "metadata": {},
   "outputs": [
    {
     "name": "stderr",
     "output_type": "stream",
     "text": [
      "[nltk_data] Downloading package movie_reviews to\n",
      "[nltk_data]     C:\\Users\\dell\\AppData\\Roaming\\nltk_data...\n",
      "[nltk_data]   Package movie_reviews is already up-to-date!\n"
     ]
    }
   ],
   "source": [
    "import nltk\n",
    "#training dataset is imported from NLTK\n",
    "nltk.download('movie_reviews')\n",
    "\n",
    "import re \n",
    "import nltk.classify.util\n",
    "from nltk.classify import NaiveBayesClassifier\n",
    "from nltk.corpus import movie_reviews"
   ]
  },
  {
   "cell_type": "code",
   "execution_count": 2,
   "metadata": {},
   "outputs": [
    {
     "name": "stdout",
     "output_type": "stream",
     "text": [
      "\n",
      "Number of training datapoints: 1600\n",
      "Number of test datapoints: 400\n",
      "\n",
      "Accuracy of the classifier: 0.735\n",
      "\n",
      "Review: Congrats \n",
      "\n",
      "Predicted sentiment: Positive\n",
      "Probability: 0.5\n",
      "\n",
      "Review: M3 on the lift this morning finishing up with rear sub frame replacement #bmw #bmwm3 #m3 #wedoitall #wemakeitbetter #nolimits #azevedomotorsports #lovemyjob #lindenj #newjersey #portuguese @Azevedo Motorsports https://www.instagram.com/p/B9O1hnxn6uQ/?igshid=16k8llqvzxl6c\n",
      "\n",
      "Predicted sentiment: Positive\n",
      "Probability: 0.53\n",
      "\n",
      "Review: Happy Monday ... Here is the completed M coupe we delivered last week... Car came in for some minor insurance work and ended up getting a full restoration .. #Bmw #bmwmcoupe #restoration #wemakeitnewagain #nolimits… https://www.instagram.com/p/B9OwfM0nwwF/?igshid=10mpbw02l3lyi\n",
      "\n",
      "Predicted sentiment: Positive\n",
      "Probability: 0.88\n",
      "\n",
      "Review: ///M Power Donuts mlit2.0 yousef.zarrouk @ffreshboii96 Tag us #bmw_world_ua @New York, New York https://www.instagram.com/p/B9OoPkwFviN/?igshid=1xdkfx69zxv35\n",
      "\n",
      "Predicted sentiment: Positive\n",
      "Probability: 0.52\n",
      "\n",
      "Review: Sickkkk M2 _leo.oliveira_ Pic by lamecarz Tag us #bmw_world_ua @Jersey City, New Jersey https://www.instagram.com/p/B9OaEdcFuL8/?igshid=1cqpxf2jk3j92\n",
      "\n",
      "Predicted sentiment: Positive\n",
      "Probability: 0.52\n",
      "\n",
      "Review: Bmw M5 competition, dreams I gotta make come true\n",
      "\n",
      "Predicted sentiment: Positive\n",
      "Probability: 0.7\n",
      "\n",
      "Review: It’s March 1st! Do you know what that means?!⁣⁣⁣ : 01madgli ⁣⁣⁣ ———————————————————————⁣⁣⁣⁣⁣⁣⁣⁣ | #BMW | #M4 | #BMWM4 | #BMWRepost | #BMWMRepost | #BMW_World_UA | #BMW_MPoweer | #BMWLife | #IG_BMW | #MPower |… https://www.instagram.com/p/B9NF6JblQn3/?igshid=15ah4nistqom4\n",
      "\n",
      "Predicted sentiment: Positive\n",
      "Probability: 0.81\n",
      "\n",
      "Review: Bmw M235i driver A21KNH parked illegally near 222 E Broadway on March 1. This is in Manhattan Community Board 03 #CB3Man &amp; #NYPD7. #VisionZero\n",
      "\n",
      "Predicted sentiment: Negative\n",
      "Probability: 0.67\n",
      "\n",
      "Review: But that blue BMW was the devil.\n",
      "\n",
      "Predicted sentiment: Positive\n",
      "Probability: 0.51\n",
      "\n",
      "Review: Clean M3 s.metjahic1 Photo by http://ray.nyc Tag us #bmw_world_ua @New York, New York https://www.instagram.com/p/B9L7k6YFqm9/?igshid=6w23tiq5wykb\n",
      "\n",
      "Predicted sentiment: Positive\n",
      "Probability: 0.52\n",
      "Overall response average: 0.9\n"
     ]
    }
   ],
   "source": [
    "#function to create dictionary of positive and negative words\n",
    "def extract_features(word_list):\n",
    "    return dict([(word, True) for word in word_list])\n",
    "\n",
    "# Load positive and negative reviews using the tags mentioned in the training dataset  \n",
    "positive_fileids = movie_reviews.fileids('pos')\n",
    "negative_fileids = movie_reviews.fileids('neg')\n",
    "\n",
    "# Gathering Positive and negative key words in a dictionary by calling the function\n",
    "features_positive = [(extract_features(movie_reviews.words(fileids=[f])),'Positive') for f in positive_fileids]\n",
    "features_negative = [(extract_features(movie_reviews.words(fileids=[f])),'Negative') for f in negative_fileids]\n",
    "\n",
    "# Split the data into train and test (80/20)\n",
    "#threshold set to 0.8 to split the data into 80% training dataset and 20% testing dataset\n",
    "threshold_factor = 0.8\n",
    "threshold_positive = int(threshold_factor * len(features_positive)) #length of 80% positive words+ length of 80% of the negative words for training dataset\n",
    "threshold_negative = int(threshold_factor * len(features_negative)) #remaining length of 20% each positive and negative words for testing dataset\n",
    "\n",
    "#80% of positive words+80% of the negative words as training dataset\n",
    "features_train = features_positive[:threshold_positive] + features_negative[:threshold_negative]\n",
    "#remaining 20% each positive and negative words as testing dataset\n",
    "features_test = features_positive[threshold_positive:] + features_negative[threshold_negative:]\n",
    "\n",
    "print (\"\\nNumber of training datapoints:\", len(features_train))\n",
    "print (\"Number of test datapoints:\", len(features_test))\n",
    "\n",
    "# Training the model using Naive Bayes classifier\n",
    "classifier = NaiveBayesClassifier.train(features_train)\n",
    "print (\"\\nAccuracy of the classifier:\", nltk.classify.util.accuracy(classifier, features_test))\n",
    "\n",
    "# Sample input reviews for checking the sentimental analysis given by the model\n",
    "input_reviews = [\n",
    "    \"i dont like the upholstry in this car\", \n",
    "]\n",
    "\n",
    "# Saved model is run on the tweets which we got from Twitter\n",
    "\n",
    "#for counting number of positive reviews.\n",
    "p = 0 \n",
    "#for counting number of negative reviews.\n",
    "n = 0 \n",
    "with open('tweets.csv',encoding=\"utf-8\") as f:\n",
    "    #checking sentimental for the first 10 tweets collected\n",
    "    for i in range(10):\n",
    "        Review = f.readline()\n",
    "        print (\"\\nReview:\", Review)\n",
    "        #calculating probability distribution\n",
    "        probdist = classifier.prob_classify(extract_features(Review.split()))\n",
    "        pred_sentiment = probdist.max()\n",
    "        print (\"Predicted sentiment:\", pred_sentiment )\n",
    "        print (\"Probability:\", round(probdist.prob(pred_sentiment), 2))\n",
    "        if pred_sentiment==\"Positive\":\n",
    "            p+=1\n",
    "        elif pred_sentiment==\"Negative\":\n",
    "            n+=1\n",
    "\n",
    "    print(\"Overall response average:\", (p/(p+n)))\n",
    "i = 0"
   ]
  },
  {
   "cell_type": "code",
   "execution_count": 7,
   "metadata": {},
   "outputs": [
    {
     "name": "stdout",
     "output_type": "stream",
     "text": [
      "\n",
      "Review: i dont like the upholstry in this car\n",
      "Predicted sentiment: Negative\n",
      "Probability: 0.84\n"
     ]
    }
   ],
   "source": [
    "# Sample input reviews\n",
    "input_reviews = [\n",
    "    \"i dont like the upholstry in this car\", \n",
    "]\n",
    "\n",
    "p = 0\n",
    "n = 0\n",
    "\n",
    "i = 0\n",
    "\n",
    "#checking sentimental analysis for the given input\n",
    "for review in input_reviews:\n",
    "\n",
    "   print (\"\\nReview:\", review)\n",
    "   probdist = classifier.prob_classify(extract_features(review.split()))\n",
    "   pred_sentiment = probdist.max()\n",
    "\n",
    "   print (\"Predicted sentiment:\", pred_sentiment )\n",
    "   print (\"Probability:\", round(probdist.prob(pred_sentiment), 2))\n"
   ]
  },
  {
   "cell_type": "code",
   "execution_count": 4,
   "metadata": {},
   "outputs": [
    {
     "name": "stdout",
     "output_type": "stream",
     "text": [
      "\n",
      "Review: This car is amazing\n",
      "Predicted sentiment: Positive\n",
      "Probability: 0.52\n"
     ]
    }
   ],
   "source": [
    "# Sample input reviews\n",
    "input_reviews = [\n",
    "    \"This car is amazing\", \n",
    "]\n",
    "\n",
    "p = 0\n",
    "n = 0\n",
    "\n",
    "i = 0\n",
    "\n",
    "for review in input_reviews:\n",
    "\n",
    "   print (\"\\nReview:\", review)\n",
    "   probdist = classifier.prob_classify(extract_features(review.split()))\n",
    "   pred_sentiment = probdist.max()\n",
    "\n",
    "   print (\"Predicted sentiment:\", pred_sentiment )\n",
    "   print (\"Probability:\", round(probdist.prob(pred_sentiment), 2))\n"
   ]
  },
  {
   "cell_type": "code",
   "execution_count": 5,
   "metadata": {},
   "outputs": [
    {
     "name": "stdout",
     "output_type": "stream",
     "text": [
      "\n",
      "Review: the car has a gay color\n",
      "Predicted sentiment: Positive\n",
      "Probability: 0.69\n"
     ]
    }
   ],
   "source": [
    "# Sample input reviews\n",
    "input_reviews = [\n",
    "    \"the car has a gay color\", \n",
    "]\n",
    "\n",
    "p = 0\n",
    "n = 0\n",
    "\n",
    "i = 0\n",
    "\n",
    "for review in input_reviews:\n",
    "\n",
    "   print (\"\\nReview:\", review)\n",
    "   probdist = classifier.prob_classify(extract_features(review.split()))\n",
    "   pred_sentiment = probdist.max()\n",
    "\n",
    "   print (\"Predicted sentiment:\", pred_sentiment )\n",
    "   print (\"Probability:\", round(probdist.prob(pred_sentiment), 2))\n"
   ]
  },
  {
   "cell_type": "code",
   "execution_count": null,
   "metadata": {},
   "outputs": [],
   "source": []
  },
  {
   "cell_type": "code",
   "execution_count": 6,
   "metadata": {},
   "outputs": [
    {
     "name": "stdout",
     "output_type": "stream",
     "text": [
      "\n",
      "Review: This car is not good\n",
      "Predicted sentiment: Negative\n",
      "Probability: 0.61\n"
     ]
    }
   ],
   "source": [
    "# Sample input reviews\n",
    "input_reviews = [\n",
    "    \"This car is not good\", \n",
    "]\n",
    "\n",
    "p = 0\n",
    "n = 0\n",
    "\n",
    "i = 0\n",
    "\n",
    "for review in input_reviews:\n",
    "\n",
    "   print (\"\\nReview:\", review)\n",
    "   probdist = classifier.prob_classify(extract_features(review.split()))\n",
    "   pred_sentiment = probdist.max()\n",
    "\n",
    "   print (\"Predicted sentiment:\", pred_sentiment )\n",
    "   print (\"Probability:\", round(probdist.prob(pred_sentiment), 2))\n"
   ]
  },
  {
   "cell_type": "code",
   "execution_count": null,
   "metadata": {},
   "outputs": [],
   "source": []
  },
  {
   "cell_type": "code",
   "execution_count": null,
   "metadata": {},
   "outputs": [],
   "source": []
  }
 ],
 "metadata": {
  "kernelspec": {
   "display_name": "Python 3",
   "language": "python",
   "name": "python3"
  },
  "language_info": {
   "codemirror_mode": {
    "name": "ipython",
    "version": 3
   },
   "file_extension": ".py",
   "mimetype": "text/x-python",
   "name": "python",
   "nbconvert_exporter": "python",
   "pygments_lexer": "ipython3",
   "version": "3.7.3"
  }
 },
 "nbformat": 4,
 "nbformat_minor": 4
}
