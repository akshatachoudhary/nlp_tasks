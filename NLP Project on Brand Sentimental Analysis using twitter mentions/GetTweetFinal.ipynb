{
 "cells": [
  {
   "cell_type": "code",
   "execution_count": 1,
   "metadata": {},
   "outputs": [
    {
     "name": "stdout",
     "output_type": "stream",
     "text": [
      "Collecting GetOldTweets3\n",
      "  Downloading https://files.pythonhosted.org/packages/ed/f4/a00c2a7c90801abc875325bb5416ce9090ac86d06a00cc887131bd73ba45/GetOldTweets3-0.0.11-py3-none-any.whl\n",
      "Requirement already satisfied: lxml>=3.5.0 in c:\\users\\dell\\anaconda3\\lib\\site-packages (from GetOldTweets3) (4.3.4)\n",
      "Collecting pyquery>=1.2.10 (from GetOldTweets3)\n",
      "  Downloading https://files.pythonhosted.org/packages/78/43/95d42e386c61cb639d1a0b94f0c0b9f0b7d6b981ad3c043a836c8b5bc68b/pyquery-1.4.1-py2.py3-none-any.whl\n",
      "Collecting cssselect>0.7.9 (from pyquery>=1.2.10->GetOldTweets3)\n",
      "  Downloading https://files.pythonhosted.org/packages/3b/d4/3b5c17f00cce85b9a1e6f91096e1cc8e8ede2e1be8e96b87ce1ed09e92c5/cssselect-1.1.0-py2.py3-none-any.whl\n",
      "Installing collected packages: cssselect, pyquery, GetOldTweets3\n",
      "Successfully installed GetOldTweets3-0.0.11 cssselect-1.1.0 pyquery-1.4.1\n",
      "Note: you may need to restart the kernel to use updated packages.\n"
     ]
    }
   ],
   "source": [
    "pip install GetOldTweets3"
   ]
  },
  {
   "cell_type": "code",
   "execution_count": 2,
   "metadata": {},
   "outputs": [
    {
     "name": "stdout",
     "output_type": "stream",
     "text": [
      "Searching...\n",
      "\n",
      "More 100 saved on file...\n",
      "\n",
      "Done. Output file generated \"tweets.csv\".\n"
     ]
    }
   ],
   "source": [
    "#using twitter API to collect dataset\n",
    "import GetOldTweets3 as got\n",
    "import sys,getopt,datetime,codecs\n",
    "#tweets are extracted based on certain criterias: brand name, start and end date between which tweet was done and the geometric loaction of tweet done\n",
    "tweetCriteria = got.manager.TweetCriteria().setQuerySearch('bmw')\\\n",
    "                                           .setSince(\"2019-05-01\")\\\n",
    "                                           .setUntil(\"2020-03-03\")\\\n",
    "                                           .setNear(\"New York\")\\\n",
    "                                           .setMaxTweets(100)\n",
    "#set geometric location as New York to collect all the tweets in english language\n",
    "tweet = got.manager.TweetManager.getTweets(tweetCriteria)[0]\n",
    "#opening csv file to store tweets\n",
    "#tweets stored in tweets.csv file\n",
    "outputFileName = \"tweets.csv\"\n",
    "outputFile = codecs.open(outputFileName, \"w+\", \"utf-8\")\n",
    "\n",
    "print('Searching...\\n')\n",
    "#writing the tweets in csv file\n",
    "def receiveBuffer(tweets):\n",
    "    for t in tweets:\n",
    "        outputFile.write(t.text + \"\\n\")\n",
    "    #clear the internal buffer of the file    \n",
    "    outputFile.flush()\n",
    "    print('More %d saved on file...\\n' % len(tweets))\n",
    "\n",
    "got.manager.TweetManager.getTweets(tweetCriteria, receiveBuffer)\n",
    "\n",
    "outputFile.close()\n",
    "print('Done. Output file generated \"%s\".' % outputFileName)"
   ]
  },
  {
   "cell_type": "code",
   "execution_count": null,
   "metadata": {},
   "outputs": [],
   "source": []
  },
  {
   "cell_type": "code",
   "execution_count": null,
   "metadata": {},
   "outputs": [],
   "source": []
  }
 ],
 "metadata": {
  "kernelspec": {
   "display_name": "Python 3",
   "language": "python",
   "name": "python3"
  },
  "language_info": {
   "codemirror_mode": {
    "name": "ipython",
    "version": 3
   },
   "file_extension": ".py",
   "mimetype": "text/x-python",
   "name": "python",
   "nbconvert_exporter": "python",
   "pygments_lexer": "ipython3",
   "version": "3.7.3"
  }
 },
 "nbformat": 4,
 "nbformat_minor": 4
}
